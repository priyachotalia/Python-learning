{
 "cells": [
  {
   "cell_type": "markdown",
   "metadata": {},
   "source": [
    "# Naive Bayes"
   ]
  },
  {
   "cell_type": "markdown",
   "metadata": {},
   "source": [
    "# Priya Chotalia"
   ]
  },
  {
   "cell_type": "markdown",
   "metadata": {},
   "source": [
    "Naive Bayes methods are a set of supervised learning algorithms based on applying Bayes' theorem with the \"naive\" assumption of conditional independence between every pair of features given the value of the class variable. Bayes'theorem states the following relationship, given class variable $y$ and dependent feature vector $x_1$ through $x_n$,:"
   ]
  },
  {
   "cell_type": "markdown",
   "metadata": {},
   "source": [
    "$$P(y \\mid x_1, \\dots, x_n) = \\frac{P(y) P(x_1, \\dots x_n \\mid y)}\n",
    "                                 {P(x_1, \\dots, x_n)}$$"
   ]
  },
  {
   "cell_type": "markdown",
   "metadata": {},
   "source": [
    "Using the naive conditional independence assumption, we have"
   ]
  },
  {
   "cell_type": "markdown",
   "metadata": {},
   "source": [
    "$$\\begin{align}\\begin{aligned}P(y \\mid x_1, \\dots, x_n) \\propto P(y) \\prod_{i=1}^{n} P(x_i \\mid y)\\\\\\Downarrow\\\\\\hat{y} = \\arg\\max_y P(y) \\prod_{i=1}^{n} P(x_i \\mid y),\\end{aligned}\\end{align}$$"
   ]
  },
  {
   "cell_type": "markdown",
   "metadata": {},
   "source": [
    "Then, we can use Maximum A Posteriori (MAP) estimation to estimate $P(y)$ and $P(x_i \\mid y)$; the former is then the relative frequency of class $y$ in the training set."
   ]
  },
  {
   "cell_type": "markdown",
   "metadata": {},
   "source": [
    "*References*:\n",
    "H. Zhang (2004). The optimality of Naive Bayes. Proc. FLAIRS."
   ]
  },
  {
   "cell_type": "markdown",
   "metadata": {},
   "source": [
    "# 1 Gaussian Naive Bayes"
   ]
  },
  {
   "cell_type": "markdown",
   "metadata": {},
   "source": [
    "[GaussianNB](https://scikit-learn.org/stable/modules/generated/sklearn.naive_bayes.GaussianNB.html#sklearn.naive_bayes.GaussianNB) implements the Gaussian Naive Bayes algorithm for classification on the data sets where features are continuous.   \n",
    "The likelihood of the features is assumed to be Gaussian:"
   ]
  },
  {
   "cell_type": "markdown",
   "metadata": {},
   "source": [
    "$$P(x_i \\mid y) = \\frac{1}{\\sqrt{2\\pi\\sigma^2_y}} \\exp\\left(-\\frac{(x_i - \\mu_y)^2}{2\\sigma^2_y}\\right)$$"
   ]
  },
  {
   "cell_type": "markdown",
   "metadata": {},
   "source": [
    "The parameters $\\sigma_y$ and $\\mu_y$  are estimated using maximum likelihood."
   ]
  },
  {
   "cell_type": "markdown",
   "metadata": {},
   "source": [
    "#### Demo\n",
    "In this demo, we show how to build a Gaussian Naive Bayes classifier."
   ]
  },
  {
   "cell_type": "code",
   "execution_count": 125,
   "metadata": {},
   "outputs": [],
   "source": [
    "import numpy as np\n",
    "import pandas as pd\n",
    "import matplotlib.pyplot as plt\n",
    "from sklearn.model_selection import train_test_split\n",
    "from sklearn.datasets import make_classification\n",
    "from sklearn.naive_bayes import GaussianNB\n",
    "from sklearn.naive_bayes import MultinomialNB\n",
    "from sklearn.metrics import accuracy_score\n",
    "import warnings\n",
    "warnings.filterwarnings(\"ignore\")"
   ]
  },
  {
   "cell_type": "code",
   "execution_count": 126,
   "metadata": {},
   "outputs": [
    {
     "data": {
      "image/png": "[encoded data removed]",
      "text/plain": [
       "<Figure size 432x288 with 1 Axes>"
      ]
     },
     "metadata": {
      "needs_background": "light"
     },
     "output_type": "display_data"
    }
   ],
   "source": [
    "# Generate a synthetica 2D dataset\n",
    "X, y = make_classification(n_samples=50, n_features=2, n_informative=2,\n",
    "                           n_redundant=0, n_classes=3, n_clusters_per_class=1, \n",
    "                           weights=None, flip_y=0.01, class_sep=0.5, hypercube=True,\n",
    "                           shift=0.0, scale=1.0, shuffle=True, random_state=42)\n",
    "\n",
    "# Data split\n",
    "X_train, X_test, y_train, y_test = train_test_split(X, y, test_size=.2, random_state=42)\n",
    "\n",
    "# Visualize the generated data\n",
    "colors = ['blue', 'yellow', 'green']\n",
    "for i, color in enumerate(colors):\n",
    "    plt.scatter(X_train[y_train == i, 0], X_train[y_train == i, 1], c=color)\n",
    "plt.scatter(X_test[:, 0], X_test[:,1], c='red', marker='x', label='Testing Data')\n",
    "plt.legend(loc='best')\n",
    "plt.show()"
   ]
  },
  {
   "cell_type": "code",
   "execution_count": 127,
   "metadata": {},
   "outputs": [
    {
     "name": "stdout",
     "output_type": "stream",
     "text": [
      "Testing accuracy is: 0.8000\n",
      "\n"
     ]
    }
   ],
   "source": [
    "# Create and training a Gaussian Naive Bayes classifier model\n",
    "clf = GaussianNB()\n",
    "clf.fit(X_train, y_train)\n",
    "\n",
    "# Use the model to predict testing data\n",
    "y_pred = clf.predict(X_test)\n",
    "accuracy = accuracy_score(y_pred, y_test)\n",
    "print('Testing accuracy is: %.4f\\n' % accuracy)"
   ]
  },
  {
   "cell_type": "code",
   "execution_count": 128,
   "metadata": {},
   "outputs": [
    {
     "name": "stdout",
     "output_type": "stream",
     "text": [
      "Estimated probability of classess: \n",
      " [0.325 0.375 0.3  ]\n",
      "Estimated mean for each Gaussian distribution: \n",
      " [[ 0.609  -0.5612]\n",
      " [ 0.3967  0.513 ]\n",
      " [-0.4016 -0.8369]]\n",
      "Estimated variance for each Gaussian distribution: \n",
      " [[0.2323 1.0484]\n",
      " [0.9352 0.0663]\n",
      " [0.331  0.6756]]\n"
     ]
    }
   ],
   "source": [
    "# Explore the learned probability (model parameters)\n",
    "print('Estimated probability of classess: \\n', clf.class_prior_)\n",
    "print('Estimated mean for each Gaussian distribution: \\n', clf.theta_)\n",
    "print('Estimated variance for each Gaussian distribution: \\n', clf.sigma_)"
   ]
  },
  {
   "cell_type": "markdown",
   "metadata": {},
   "source": [
    "For example, for Class 0 and the first feature, we can have the following Gaussian disribution"
   ]
  },
  {
   "cell_type": "markdown",
   "metadata": {},
   "source": [
    "$$P(x_0 \\mid Class=0) = \\frac{1}{\\sqrt{2\\pi\\cdot0.2323}} \\exp\\left(-\\frac{(x_0 - 0.6090)^2}{2\\cdot0.2323}\\right)$$"
   ]
  },
  {
   "cell_type": "code",
   "execution_count": 129,
   "metadata": {},
   "outputs": [
    {
     "name": "stdout",
     "output_type": "stream",
     "text": [
      "Gaussian Naive Bayes accuracy range: [0.3333, 1.0000]; mean: 0.6967; std: 0.1773\n",
      "\n"
     ]
    }
   ],
   "source": [
    "# Use 10-fold cross validation to show a more robust prediction accuracy\n",
    "clf = GaussianNB()\n",
    "scores = cross_val_score(clf, X, y, scoring='accuracy', cv=10)\n",
    "print('Gaussian Naive Bayes accuracy range: [%.4f, %.4f]; mean: %.4f; std: %.4f\\n' % (scores.min(), scores.max(), scores.mean(), scores.std()))"
   ]
  },
  {
   "cell_type": "markdown",
   "metadata": {},
   "source": [
    "**Tasks** - The training data is generated as follows:"
   ]
  },
  {
   "cell_type": "code",
   "execution_count": 130,
   "metadata": {},
   "outputs": [
    {
     "name": "stdout",
     "output_type": "stream",
     "text": [
      "Means estaimated manually: \n",
      " [[-2.     -1.3333]\n",
      " [ 2.      1.3333]]\n",
      "Variances estaimated manually: \n",
      " [[0.6667 0.2222]\n",
      " [0.6667 0.2222]]\n"
     ]
    }
   ],
   "source": [
    "import numpy as np\n",
    "X = np.array([[-1, -1], [-2, -1], [-3, -2], [1, 1], [2, 1], [3, 2]])\n",
    "y = np.array([1, 1, 1, 2, 2, 2])\n",
    "\n",
    "# Firstly, let's do the parameter estimation manually without using the model\n",
    "X_0_C_1=X[y==1][:,0]\n",
    "X_1_C_1=X[y==1][:,1]\n",
    "X_0_C_2=X[y==2][:,0]\n",
    "X_1_C_2=X[y==2][:,1]\n",
    "\n",
    "manual_means = np.array([[X_0_C_1.mean(), X_1_C_1.mean()], [X_0_C_2.mean(), X_1_C_2.mean()]])\n",
    "np.set_printoptions(precision=4)\n",
    "print('Means estaimated manually: \\n', manual_means)\n",
    "manual_vars = np.array([[X_0_C_1.var(), X_1_C_1.var()], [X_0_C_2.var(), X_1_C_2.var()]])\n",
    "print('Variances estaimated manually: \\n', manual_vars)"
   ]
  },
  {
   "cell_type": "markdown",
   "metadata": {},
   "source": [
    "**Q1**: Training a GaussianNB model and print out the learned model parameters (parameters of probability distributions). And check if the learned parameters comply with the manually estimated ones as shown above."
   ]
  },
  {
   "cell_type": "code",
   "execution_count": 131,
   "metadata": {},
   "outputs": [
    {
     "name": "stdout",
     "output_type": "stream",
     "text": [
      "Estimated means: \n",
      " [[-2.     -1.3333]\n",
      " [ 2.      1.3333]]\n",
      "Estimated variance: \n",
      " [[0.6667 0.2222]\n",
      " [0.6667 0.2222]]\n"
     ]
    }
   ],
   "source": [
    "# Create and training a Gaussian Naive Bayes classifier model\n",
    "clf = GaussianNB()\n",
    "clf.fit(X, y)\n",
    "\n",
    "print('Estimated means: \\n', clf.theta_)\n",
    "print('Estimated variance: \\n', clf.sigma_)"
   ]
  },
  {
   "cell_type": "markdown",
   "metadata": {},
   "source": [
    "**Answer to Q1**: \n",
    "\n",
    "Estimated means: \n",
    " [[-2.     -1.3333]\n",
    " [ 2.      1.3333]]\n",
    "Estimated variance: \n",
    " [[0.6667 0.2222]\n",
    " [0.6667 0.2222]]\n",
    " \n",
    " Yes. It complies with the ones estimated by hand"
   ]
  },
  {
   "cell_type": "markdown",
   "metadata": {},
   "source": [
    "**Q2**: Predict the label of a data [-0.8,-1]:"
   ]
  },
  {
   "cell_type": "code",
   "execution_count": 132,
   "metadata": {},
   "outputs": [
    {
     "name": "stdout",
     "output_type": "stream",
     "text": [
      "Class label is: 1\n",
      "\n"
     ]
    }
   ],
   "source": [
    "X_new = [[-0.8,-1]]\n",
    "y_pred = clf.predict(X_new)\n",
    "print('Class label is: %.f\\n' % y_pred[0])"
   ]
  },
  {
   "cell_type": "markdown",
   "metadata": {},
   "source": [
    "**Answer to Q2**: 1"
   ]
  },
  {
   "cell_type": "markdown",
   "metadata": {},
   "source": [
    "# 2 MultinomialNB"
   ]
  },
  {
   "cell_type": "markdown",
   "metadata": {},
   "source": [
    "The [MultinomialNB](https://scikit-learn.org/stable/modules/generated/sklearn.naive_bayes.MultinomialNB.html#sklearn.naive_bayes.MultinomialNB) classification model is suitable for classification with discrete features. To let the model handle to categorical data, we often need to transform the categorical values to numberic ones, through [encoding](https://scikit-learn.org/stable/modules/preprocessing.html#encoding-categorical-features) methods."
   ]
  },
  {
   "cell_type": "code",
   "execution_count": 133,
   "metadata": {
    "scrolled": true
   },
   "outputs": [
    {
     "name": "stdout",
     "output_type": "stream",
     "text": [
      "    Outlook Humidity    Wind Play\n",
      "0     Sunny     High    Weak   No\n",
      "1     Sunny     High  Strong   No\n",
      "2  Overcast     High    Weak  Yes\n",
      "3      Rain     High    Weak  Yes\n",
      "4      Rain   Normal    Weak  Yes\n",
      "\n",
      "Data shape:  (14, 4)\n"
     ]
    }
   ],
   "source": [
    "# Load the weather data\n",
    "weather_data = pd.read_csv('weather.csv')\n",
    "print(weather_data.head())\n",
    "print('\\nData shape: ', weather_data.shape)"
   ]
  },
  {
   "cell_type": "code",
   "execution_count": 134,
   "metadata": {},
   "outputs": [],
   "source": [
    "# Data pre-processing and preparation\n",
    "# Firstly, we need to convert the date from being categorical to being numerical\n",
    "from sklearn.preprocessing import OrdinalEncoder\n",
    "enc = OrdinalEncoder()\n",
    "coded_data = enc.fit_transform(weather_data)\n",
    "\n",
    "X = coded_data[:, 0:-1]\n",
    "y = coded_data[:, -1]\n",
    "\n",
    "X_train, X_test, y_train, y_test = train_test_split(X, y, random_state=42)"
   ]
  },
  {
   "cell_type": "code",
   "execution_count": 135,
   "metadata": {},
   "outputs": [
    {
     "data": {
      "text/plain": [
       "MultinomialNB(alpha=1.0, class_prior=None, fit_prior=True)"
      ]
     },
     "execution_count": 135,
     "metadata": {},
     "output_type": "execute_result"
    }
   ],
   "source": [
    "# Creat and train a model\n",
    "clf_mnb = MultinomialNB()\n",
    "clf_mnb.fit(X_train, y_train)"
   ]
  },
  {
   "cell_type": "code",
   "execution_count": 136,
   "metadata": {},
   "outputs": [
    {
     "name": "stdout",
     "output_type": "stream",
     "text": [
      "Accuracy is: 0.7500\n",
      "\n"
     ]
    }
   ],
   "source": [
    "# Evaluate the model\n",
    "y_pred = clf_mnb.predict(X_test)\n",
    "accuracy = accuracy_score(y_test, y_pred)\n",
    "print('Accuracy is: %.4f\\n' % accuracy)"
   ]
  },
  {
   "cell_type": "code",
   "execution_count": 137,
   "metadata": {},
   "outputs": [
    {
     "name": "stdout",
     "output_type": "stream",
     "text": [
      "Estimated probability of classess: \n",
      " [0.4 0.6]\n",
      "Estimated class-conditional probabilities for each feature: \n",
      " [[0.6364 0.1818 0.1818]\n",
      " [0.4118 0.2941 0.2941]]\n"
     ]
    }
   ],
   "source": [
    "# Explore the learned model parameters (probabilities)\n",
    "# Note that the probabilities are in the logorithmic form. Why? The log-sum-exp trick for underflow of probability products\n",
    "print('Estimated probability of classess: \\n', np.e**clf_mnb.class_log_prior_)\n",
    "print('Estimated class-conditional probabilities for each feature: \\n', np.e**clf_mnb.feature_log_prob_)"
   ]
  },
  {
   "cell_type": "markdown",
   "metadata": {},
   "source": [
    "**Tasks** - The training data is generated as follows. The number of data instances (6) is small while the demensionality of the data is relatively highly (100)."
   ]
  },
  {
   "cell_type": "code",
   "execution_count": 138,
   "metadata": {},
   "outputs": [],
   "source": [
    "import numpy as np\n",
    "X = np.random.randint(5, size=(6, 100))\n",
    "y = np.array([1, 2, 3, 4, 5, 6])"
   ]
  },
  {
   "cell_type": "markdown",
   "metadata": {},
   "source": [
    "**Q3**: Training a MultinomialNB model, and predict the label of a data X_new = [[1,2,1,0,2,3,0,3,2,1,1,3,3,0,4,2,2,0,0,2,2,3,4,4,4,4,0,3,3,\n",
    "          1,1,1,2,3,1,3,0,2,2,0,4,2,4,3,2,0,1,1,1,2,3,0,0,3,4,3,3,4,\n",
    "          2,1,0,0,0,0,4,1,2,0,0,4,4,0,4,1,3,1,1,1,3,1,1,1,4,3,1,1,3,\n",
    "          2,0,0,0,3,4,1,1,4,3,2,3,4]]:"
   ]
  },
  {
   "cell_type": "code",
   "execution_count": 139,
   "metadata": {},
   "outputs": [
    {
     "data": {
      "text/plain": [
       "array([6])"
      ]
     },
     "execution_count": 139,
     "metadata": {},
     "output_type": "execute_result"
    }
   ],
   "source": [
    "# Training a MultinomialNB model\n",
    "clf_mnb = MultinomialNB()\n",
    "clf_mnb.fit(X, y)\n",
    "\n",
    "#print('Estimated probability of classess: \\n', np.e**clf_mnb.class_log_prior_)\n",
    "#print('Estimated class-conditional probabilities for each feature: \\n', np.e**clf_mnb.feature_log_prob_)\n",
    "\n",
    "# Predict the class of the new data instance\n",
    "#X_new = np.random.randint(5, size=(1, 100))\n",
    "X_new = [[1,2,1,0,2,3,0,3,2,1,1,3,3,0,4,2,2,0,0,2,2,3,4,4,4,4,0,3,3,\n",
    "          1,1,1,2,3,1,3,0,2,2,0,4,2,4,3,2,0,1,1,1,2,3,0,0,3,4,3,3,4,\n",
    "          2,1,0,0,0,0,4,1,2,0,0,4,4,0,4,1,3,1,1,1,3,1,1,1,4,3,1,1,3,\n",
    "          2,0,0,0,3,4,1,1,4,3,2,3,4]]\n",
    "clf_mnb.predict(X_new)"
   ]
  },
  {
   "cell_type": "markdown",
   "metadata": {},
   "source": [
    "**Answer to Q3**: Can be any number in {1, 2, 3, 4, 5, 6}"
   ]
  },
  {
   "cell_type": "markdown",
   "metadata": {},
   "source": [
    "**Q4**: In our lecture, we discussed that if there is no occurence of some feature values, zero probabilities will appear. To overcome this issue, Laplace correction (smoothing) is proposed, as shown in the follow formula. In the [MultinomialNB](https://scikit-learn.org/stable/modules/generated/sklearn.naive_bayes.MultinomialNB.html#sklearn.naive_bayes.MultinomialNB) implementation, the parameter 'alpha' controls the way we apply Laplace smoothing. The default value is 'alpha=1.0'. Please create and train a model with no Laplace smoothing for the above data set. Compare the leaned model parameters (probabilities) with the case 'alpha=1', by checking if there are zero probabilities (note that due to the accuracy issue, zero might be represented as a signficantly small number by the computer)\n",
    "$$p(x_{yi}|y)=\\frac{N_{yi}+\\alpha}{N_y+{\\alpha}n}$$"
   ]
  },
  {
   "cell_type": "code",
   "execution_count": 140,
   "metadata": {
    "collapsed": true
   },
   "outputs": [
    {
     "name": "stdout",
     "output_type": "stream",
     "text": [
      "Estimated probability of classess: \n",
      " [0.1667 0.1667 0.1667 0.1667 0.1667 0.1667]\n",
      "Estimated class-conditional probabilities for each feature: \n",
      " [[1.5464e-02 1.5464e-02 5.1546e-03 1.5464e-02 1.5464e-02 2.0619e-02\n",
      "  1.0309e-02 2.0619e-02 5.1546e-13 1.5464e-02 1.5464e-02 1.0309e-02\n",
      "  2.0619e-02 1.5464e-02 2.0619e-02 1.5464e-02 1.5464e-02 1.0309e-02\n",
      "  1.5464e-02 1.0309e-02 5.1546e-13 5.1546e-13 1.5464e-02 2.0619e-02\n",
      "  2.0619e-02 5.1546e-13 1.5464e-02 5.1546e-13 5.1546e-13 5.1546e-13\n",
      "  5.1546e-03 1.0309e-02 5.1546e-03 1.5464e-02 1.0309e-02 2.0619e-02\n",
      "  2.0619e-02 5.1546e-13 1.0309e-02 5.1546e-13 5.1546e-13 5.1546e-03\n",
      "  5.1546e-03 2.0619e-02 1.5464e-02 5.1546e-13 1.0309e-02 2.0619e-02\n",
      "  2.0619e-02 5.1546e-03 5.1546e-13 1.0309e-02 1.5464e-02 2.0619e-02\n",
      "  1.5464e-02 5.1546e-03 1.0309e-02 1.5464e-02 5.1546e-13 5.1546e-03\n",
      "  1.5464e-02 2.0619e-02 1.5464e-02 5.1546e-03 1.0309e-02 5.1546e-03\n",
      "  5.1546e-03 5.1546e-13 5.1546e-13 5.1546e-13 1.5464e-02 5.1546e-13\n",
      "  2.0619e-02 1.5464e-02 2.0619e-02 5.1546e-13 2.0619e-02 5.1546e-13\n",
      "  5.1546e-13 2.0619e-02 5.1546e-13 2.0619e-02 5.1546e-13 1.5464e-02\n",
      "  5.1546e-03 5.1546e-13 1.5464e-02 5.1546e-13 1.0309e-02 5.1546e-03\n",
      "  5.1546e-03 5.1546e-13 5.1546e-13 1.5464e-02 2.0619e-02 5.1546e-13\n",
      "  1.0309e-02 2.0619e-02 5.1546e-03 5.1546e-03]\n",
      " [5.5249e-13 2.2099e-02 2.2099e-02 5.5249e-03 1.6575e-02 1.6575e-02\n",
      "  1.1050e-02 1.6575e-02 1.1050e-02 2.2099e-02 5.5249e-03 5.5249e-13\n",
      "  5.5249e-03 5.5249e-13 2.2099e-02 1.6575e-02 5.5249e-03 1.1050e-02\n",
      "  1.6575e-02 5.5249e-03 5.5249e-03 1.1050e-02 5.5249e-13 5.5249e-13\n",
      "  1.6575e-02 1.6575e-02 1.6575e-02 1.6575e-02 1.6575e-02 5.5249e-03\n",
      "  5.5249e-03 2.2099e-02 5.5249e-13 1.1050e-02 5.5249e-03 2.2099e-02\n",
      "  2.2099e-02 5.5249e-03 5.5249e-03 1.6575e-02 5.5249e-03 5.5249e-03\n",
      "  5.5249e-13 5.5249e-03 1.6575e-02 2.2099e-02 2.2099e-02 1.6575e-02\n",
      "  5.5249e-03 1.1050e-02 1.1050e-02 1.1050e-02 5.5249e-13 1.1050e-02\n",
      "  1.6575e-02 5.5249e-13 1.1050e-02 5.5249e-13 5.5249e-03 5.5249e-13\n",
      "  5.5249e-03 1.6575e-02 2.2099e-02 1.1050e-02 5.5249e-13 1.6575e-02\n",
      "  5.5249e-03 1.1050e-02 2.2099e-02 5.5249e-03 5.5249e-13 5.5249e-13\n",
      "  5.5249e-13 1.6575e-02 5.5249e-13 5.5249e-13 1.1050e-02 1.1050e-02\n",
      "  5.5249e-03 2.2099e-02 5.5249e-13 2.2099e-02 1.1050e-02 1.1050e-02\n",
      "  5.5249e-03 1.6575e-02 1.6575e-02 1.1050e-02 5.5249e-03 5.5249e-03\n",
      "  5.5249e-13 1.6575e-02 5.5249e-13 1.6575e-02 5.5249e-13 5.5249e-03\n",
      "  1.6575e-02 1.6575e-02 1.1050e-02 5.5249e-13]\n",
      " [9.9010e-03 1.4851e-02 4.9505e-03 9.9010e-03 4.9505e-13 9.9010e-03\n",
      "  1.4851e-02 4.9505e-13 1.4851e-02 1.9802e-02 9.9010e-03 1.9802e-02\n",
      "  9.9010e-03 1.9802e-02 9.9010e-03 4.9505e-03 4.9505e-03 1.4851e-02\n",
      "  1.9802e-02 4.9505e-13 9.9010e-03 9.9010e-03 1.9802e-02 4.9505e-03\n",
      "  9.9010e-03 1.4851e-02 1.9802e-02 9.9010e-03 1.4851e-02 4.9505e-03\n",
      "  1.4851e-02 9.9010e-03 4.9505e-03 1.4851e-02 1.4851e-02 4.9505e-03\n",
      "  1.4851e-02 1.4851e-02 1.9802e-02 1.4851e-02 1.9802e-02 4.9505e-03\n",
      "  4.9505e-03 9.9010e-03 9.9010e-03 4.9505e-03 1.4851e-02 4.9505e-13\n",
      "  4.9505e-03 1.4851e-02 1.4851e-02 4.9505e-03 4.9505e-13 1.9802e-02\n",
      "  1.4851e-02 1.4851e-02 1.4851e-02 9.9010e-03 4.9505e-13 1.9802e-02\n",
      "  1.9802e-02 1.4851e-02 1.9802e-02 9.9010e-03 4.9505e-03 1.4851e-02\n",
      "  9.9010e-03 1.4851e-02 4.9505e-03 9.9010e-03 4.9505e-03 4.9505e-13\n",
      "  4.9505e-13 1.9802e-02 9.9010e-03 4.9505e-13 1.9802e-02 4.9505e-13\n",
      "  4.9505e-13 4.9505e-13 1.4851e-02 4.9505e-13 1.4851e-02 1.4851e-02\n",
      "  4.9505e-13 9.9010e-03 9.9010e-03 9.9010e-03 9.9010e-03 1.9802e-02\n",
      "  4.9505e-13 4.9505e-03 1.9802e-02 4.9505e-13 4.9505e-13 9.9010e-03\n",
      "  1.4851e-02 4.9505e-03 4.9505e-13 4.9505e-13]\n",
      " [2.0202e-02 5.0505e-13 5.0505e-03 2.0202e-02 5.0505e-03 5.0505e-03\n",
      "  5.0505e-13 5.0505e-13 2.0202e-02 1.0101e-02 2.0202e-02 1.5152e-02\n",
      "  5.0505e-13 1.0101e-02 1.0101e-02 5.0505e-03 5.0505e-13 5.0505e-03\n",
      "  5.0505e-13 2.0202e-02 1.0101e-02 5.0505e-13 1.0101e-02 5.0505e-13\n",
      "  2.0202e-02 1.0101e-02 5.0505e-03 1.0101e-02 5.0505e-03 1.0101e-02\n",
      "  2.0202e-02 1.5152e-02 1.0101e-02 2.0202e-02 2.0202e-02 2.0202e-02\n",
      "  5.0505e-13 5.0505e-13 1.5152e-02 5.0505e-03 1.5152e-02 2.0202e-02\n",
      "  1.0101e-02 5.0505e-03 1.5152e-02 5.0505e-03 5.0505e-03 1.0101e-02\n",
      "  5.0505e-03 1.0101e-02 5.0505e-13 5.0505e-03 5.0505e-13 1.5152e-02\n",
      "  1.0101e-02 5.0505e-13 5.0505e-13 1.5152e-02 5.0505e-03 5.0505e-03\n",
      "  1.5152e-02 1.5152e-02 5.0505e-03 1.5152e-02 1.0101e-02 2.0202e-02\n",
      "  2.0202e-02 5.0505e-13 2.0202e-02 1.0101e-02 1.5152e-02 2.0202e-02\n",
      "  1.0101e-02 1.0101e-02 5.0505e-13 1.0101e-02 2.0202e-02 5.0505e-13\n",
      "  2.0202e-02 5.0505e-03 2.0202e-02 2.0202e-02 2.0202e-02 1.5152e-02\n",
      "  2.0202e-02 1.0101e-02 5.0505e-03 1.5152e-02 2.0202e-02 1.5152e-02\n",
      "  5.0505e-13 1.0101e-02 5.0505e-13 5.0505e-03 1.0101e-02 1.0101e-02\n",
      "  5.0505e-13 2.0202e-02 5.0505e-13 5.0505e-03]\n",
      " [5.1813e-13 5.1813e-03 2.0725e-02 5.1813e-03 1.0363e-02 5.1813e-03\n",
      "  1.5544e-02 1.5544e-02 1.0363e-02 1.0363e-02 5.1813e-03 5.1813e-13\n",
      "  1.5544e-02 2.0725e-02 2.0725e-02 1.5544e-02 1.0363e-02 5.1813e-03\n",
      "  2.0725e-02 1.5544e-02 1.0363e-02 2.0725e-02 5.1813e-13 5.1813e-03\n",
      "  5.1813e-13 1.0363e-02 5.1813e-13 1.0363e-02 5.1813e-03 2.0725e-02\n",
      "  1.0363e-02 2.0725e-02 5.1813e-13 5.1813e-03 2.0725e-02 2.0725e-02\n",
      "  1.5544e-02 2.0725e-02 1.5544e-02 2.0725e-02 5.1813e-13 1.5544e-02\n",
      "  1.5544e-02 2.0725e-02 1.0363e-02 5.1813e-13 2.0725e-02 5.1813e-13\n",
      "  1.5544e-02 2.0725e-02 1.0363e-02 5.1813e-03 5.1813e-13 1.0363e-02\n",
      "  1.5544e-02 5.1813e-03 2.0725e-02 5.1813e-13 1.5544e-02 5.1813e-13\n",
      "  5.1813e-13 2.0725e-02 1.0363e-02 1.5544e-02 5.1813e-13 5.1813e-03\n",
      "  1.5544e-02 5.1813e-03 2.0725e-02 5.1813e-03 1.0363e-02 5.1813e-13\n",
      "  5.1813e-03 1.0363e-02 5.1813e-13 5.1813e-03 5.1813e-03 5.1813e-13\n",
      "  5.1813e-03 5.1813e-13 5.1813e-13 1.5544e-02 1.5544e-02 5.1813e-03\n",
      "  5.1813e-13 5.1813e-13 2.0725e-02 2.0725e-02 1.5544e-02 5.1813e-13\n",
      "  5.1813e-03 5.1813e-03 1.0363e-02 5.1813e-03 1.5544e-02 1.5544e-02\n",
      "  5.1813e-03 1.0363e-02 2.0725e-02 1.0363e-02]\n",
      " [2.0408e-02 1.0204e-02 1.5306e-02 1.5306e-02 1.5306e-02 2.0408e-02\n",
      "  5.1020e-13 5.1020e-03 5.1020e-03 1.0204e-02 2.0408e-02 1.5306e-02\n",
      "  1.0204e-02 1.5306e-02 5.1020e-13 1.5306e-02 5.1020e-03 5.1020e-13\n",
      "  1.5306e-02 5.1020e-13 5.1020e-03 5.1020e-03 2.0408e-02 2.0408e-02\n",
      "  1.5306e-02 1.0204e-02 2.0408e-02 1.5306e-02 2.0408e-02 2.0408e-02\n",
      "  1.0204e-02 1.0204e-02 5.1020e-03 2.0408e-02 1.0204e-02 5.1020e-03\n",
      "  5.1020e-13 1.5306e-02 2.0408e-02 2.0408e-02 1.0204e-02 1.5306e-02\n",
      "  5.1020e-13 2.0408e-02 5.1020e-13 5.1020e-13 2.0408e-02 5.1020e-13\n",
      "  1.0204e-02 2.0408e-02 1.5306e-02 1.0204e-02 1.5306e-02 1.0204e-02\n",
      "  5.1020e-13 5.1020e-13 5.1020e-03 2.0408e-02 1.0204e-02 5.1020e-03\n",
      "  5.1020e-03 5.1020e-13 5.1020e-13 5.1020e-03 1.5306e-02 5.1020e-13\n",
      "  5.1020e-13 1.5306e-02 1.0204e-02 1.0204e-02 5.1020e-13 1.0204e-02\n",
      "  1.0204e-02 5.1020e-13 1.5306e-02 5.1020e-13 1.0204e-02 5.1020e-03\n",
      "  5.1020e-13 5.1020e-13 5.1020e-03 2.0408e-02 5.1020e-13 2.0408e-02\n",
      "  2.0408e-02 1.0204e-02 1.5306e-02 1.0204e-02 5.1020e-03 5.1020e-13\n",
      "  5.1020e-13 1.0204e-02 1.5306e-02 5.1020e-13 2.0408e-02 5.1020e-03\n",
      "  1.5306e-02 1.0204e-02 2.0408e-02 1.0204e-02]]\n"
     ]
    }
   ],
   "source": [
    "# Create and train a MultinomialNB model with no Laplace smoothing\n",
    "clf_mnb = MultinomialNB(alpha=0)\n",
    "clf_mnb.fit(X, y)\n",
    "\n",
    "print('Estimated probability of classess: \\n', np.e**clf_mnb.class_log_prior_)\n",
    "print('Estimated class-conditional probabilities for each feature: \\n', np.e**clf_mnb.feature_log_prob_)"
   ]
  },
  {
   "cell_type": "markdown",
   "metadata": {},
   "source": [
    "**Answer to Q4**: Yes, there are many zeros (x.xxx e-13). Zero probabilities occur due to the lack of attribute values, given that we only have 6 data instances, while we have 100 features and each has 5 possible values."
   ]
  },
  {
   "cell_type": "markdown",
   "metadata": {},
   "source": [
    "# 3 Process on 'Iris' Data"
   ]
  },
  {
   "cell_type": "markdown",
   "metadata": {},
   "source": [
    "In Week 9, we have studied how to use KNN algorithm to do classification task on 'iris' data. Here,we are going to employ the GaussianNB to conduct the same task. "
   ]
  },
  {
   "cell_type": "code",
   "execution_count": 173,
   "metadata": {},
   "outputs": [],
   "source": [
    "from sklearn.datasets import load_iris\n",
    "from sklearn.model_selection import train_test_split\n",
    "iris_data = load_iris()\n",
    "X_train, X_test, y_train, y_test = train_test_split(iris_data['data'], iris_data['target'], random_state=42)"
   ]
  },
  {
   "cell_type": "markdown",
   "metadata": {},
   "source": [
    "**Q4**：Report the prediction result on test data."
   ]
  },
  {
   "cell_type": "code",
   "execution_count": 174,
   "metadata": {},
   "outputs": [
    {
     "name": "stdout",
     "output_type": "stream",
     "text": [
      "Accuracy is: 1.0000\n",
      "\n"
     ]
    }
   ],
   "source": [
    "clf = GaussianNB()\n",
    "clf.fit(X_train, y_train)\n",
    "\n",
    "y_pred = clf.predict(X_test)\n",
    "print('Accuracy is: %.4f\\n' % accuracy_score(y_test, y_pred))"
   ]
  },
  {
   "cell_type": "markdown",
   "metadata": {},
   "source": [
    "**Answer to Q4**: Accuracy is 1.0"
   ]
  },
  {
   "cell_type": "markdown",
   "metadata": {},
   "source": [
    "**Q5**: Compare the prediction accuaracy between KNN clasifier (use the optimal K you've identied) and Gaussian Naive Bayes. Use 10-cross validation to report the accuracy mean and standard deviation (Note this is to ensure the comparison is based on robust performace). Which classifidation mdoel is more accurate on Iris data set?"
   ]
  },
  {
   "cell_type": "code",
   "execution_count": 181,
   "metadata": {},
   "outputs": [
    {
     "name": "stdout",
     "output_type": "stream",
     "text": [
      "Gaussian Naive Bayes accuracy range: [0.8667, 1.0000]; mean: 0.9533; std: 0.0427\n",
      "\n",
      "KNN Classifier accuracy range: [0.9333, 1.0000]; mean: 0.9800; std: 0.0306\n",
      "\n",
      "t, p: -1.5240, 0.1449\n",
      "\n"
     ]
    }
   ],
   "source": [
    "from sklearn.model_selection import cross_val_score\n",
    "from sklearn.neighbors import KNeighborsClassifier\n",
    "\n",
    "clf_gnb = GaussianNB()\n",
    "clf_knn = KNeighborsClassifier(n_neighbors=13)\n",
    "\n",
    "scores = cross_val_score(clf_gnb, iris_data['data'], iris_data['target'], scoring='accuracy', cv=10)\n",
    "print('Gaussian Naive Bayes accuracy range: [%.4f, %.4f]; mean: %.4f; std: %.4f\\n'\n",
    "      % (scores.min(), scores.max(), scores.mean(), scores.std()))\n",
    "scores_gnb = scores\n",
    "\n",
    "scores = cross_val_score(clf_knn, iris_data['data'], iris_data['target'], scoring='accuracy', cv=10)\n",
    "print('KNN Classifier accuracy range: [%.4f, %.4f]; mean: %.4f; std: %.4f\\n'\n",
    "      % (scores.min(), scores.max(), scores.mean(), scores.std()))\n",
    "scores_knn = scores\n",
    "\n",
    "# This is to show t-test on their performances.\n",
    "from scipy.stats import ttest_ind\n",
    "t, p = ttest_ind(scores_gnb, scores_knn)\n",
    "print ('t, p: %.4f, %.4f\\n' % (t, p))"
   ]
  },
  {
   "cell_type": "markdown",
   "metadata": {},
   "source": [
    "**Answer to Q5**: \n",
    "    \n",
    "Gaussian Naive Bayes accuracy range: [0.8667, 1.0000]; mean: 0.9533; std: 0.0427\n",
    "\n",
    "KNN Classifier accuracy range: [0.9333, 1.0000]; mean: 0.9800; std: 0.0306\n",
    "    \n",
    "The averaged accuracy of the K nearest neigthbors classifier is higher than that of the Naive Bayes classifier. But in terms of t-test, the two performances of the two classifiers are not statistically significantly different if we use the significance level 0.05, as the p value 0.1449 > 0.05."
   ]
  },
  {
   "cell_type": "markdown",
   "metadata": {},
   "source": [
    "**Q6**: Can we use Multinomial Naive Bayes classifiation model for Iris data? Yes! We can discretize continuous features by use the [KBinsDiscretizer](https://scikit-learn.org/stable/modules/generated/sklearn.preprocessing.KBinsDiscretizer.html#sklearn.preprocessing.KBinsDiscretizer) method. Note that you can different ways of discrization. Please report the prediction result with the following discritization method. Also, try another discritization method with parameter 'encode=onehot', and report the prediction result. Use 10-cross validation to report the accuracy mean and standard deviation as we did above. "
   ]
  },
  {
   "cell_type": "code",
   "execution_count": 179,
   "metadata": {},
   "outputs": [
    {
     "name": "stdout",
     "output_type": "stream",
     "text": [
      "Accuracy range with ordinal discretization: [0.4667, 0.8667]; mean: 0.7000; std: 0.1043\n",
      "\n",
      "Accuracy range with onehot discretization: [0.8000, 1.0000]; mean: 0.9200; std: 0.0653\n",
      "\n",
      "t, p: -5.3612, 0.00004278\n",
      "\n"
     ]
    }
   ],
   "source": [
    "from sklearn.preprocessing import KBinsDiscretizer\n",
    "encoder = KBinsDiscretizer(n_bins=5, encode='ordinal', strategy='uniform')\n",
    "X = encoder.fit_transform(iris_data['data'])\n",
    "y = iris_data['target']\n",
    "\n",
    "clf_mnb = MultinomialNB()\n",
    "scores = cross_val_score(clf_mnb, X, y, scoring='accuracy', cv=10)\n",
    "print('Accuracy range with ordinal discretization: [%.4f, %.4f]; mean: %.4f; std: %.4f\\n'\n",
    "      % (scores.min(), scores.max(), scores.mean(), scores.std()))\n",
    "scores_ordinal = scores\n",
    "\n",
    "encoder = KBinsDiscretizer(n_bins=5, encode='onehot', strategy='uniform')\n",
    "X = encoder.fit_transform(iris_data['data'])\n",
    "y = iris_data['target']\n",
    "clf_mnb = MultinomialNB()\n",
    "scores = cross_val_score(clf_mnb, X, y, scoring='accuracy', cv=10)\n",
    "print('Accuracy range with onehot discretization: [%.4f, %.4f]; mean: %.4f; std: %.4f\\n'\n",
    "      % (scores.min(), scores.max(), scores.mean(), scores.std()))\n",
    "scores_onehot = scores\n",
    "\n",
    "# This is to show t-test on their performances.\n",
    "from scipy.stats import ttest_ind\n",
    "t, p = ttest_ind(scores_ordinal, scores_onehot)\n",
    "print ('t, p: %.4f, %.8f\\n' % (t, p))"
   ]
  },
  {
   "cell_type": "markdown",
   "metadata": {},
   "source": [
    "**Answer to Q6**:\n",
    "\n",
    "Accuracy range with ordinal discretization: [0.4667, 0.8667]; mean: 0.7000; std: 0.1043\n",
    "\n",
    "Accuracy range with onehot discretization: [0.8000, 1.0000]; mean: 0.9200; std: 0.0653\n",
    "\n",
    "The discretization with onehot encoding can be regarded much better than that with ordinal encoding. The p value 0.00004278 is much smaller than the commonly-used significance level 0.05."
   ]
  },
  {
   "cell_type": "markdown",
   "metadata": {},
   "source": [
    "# 4 Predict Human Activity Recognition (HAR)"
   ]
  },
  {
   "cell_type": "markdown",
   "metadata": {},
   "source": [
    "The objective of this practice exercise is to predict current human activity based on phisiological activity measurements from 53 different features based in the [HAR dataset](http://groupware.les.inf.puc-rio.br/har#sbia_paper_section). The training (`har_train.csv`) and test (`har_validate.csv`) datasets are provided."
   ]
  },
  {
   "cell_type": "markdown",
   "metadata": {},
   "source": [
    "**Q7**: Build a Naive Bayes model, predict on the test dataset and compute the [confusion matrix](https://towardsdatascience.com/understanding-confusion-matrix-a9ad42dcfd62). Note: Please refer to the [`sklearn.metrics.confusion_matrix`](https://scikit-learn.org/stable/modules/generated/sklearn.metrics.confusion_matrix.html). This is a check point question for this week's workshop. You need to report accuracy_scores on train and test set of Human Activity Recognition dataset. Also provide confusion matrix on test set and provide a brief interpretation of your results based on accuracy scores and confusion matrix (which class is misclassified into what). Your description should not be more than a paragraph."
   ]
  },
  {
   "cell_type": "code",
   "execution_count": 40,
   "metadata": {},
   "outputs": [],
   "source": [
    "import pandas as pd\n",
    "%matplotlib inline\n",
    "from sklearn.metrics import accuracy_score, confusion_matrix\n",
    "import matplotlib.pyplot as plt\n",
    "har_train = pd.read_csv(\"har_train.csv\")\n",
    "har_test = pd.read_csv(\"har_test.csv\")"
   ]
  },
  {
   "cell_type": "code",
   "execution_count": 41,
   "metadata": {},
   "outputs": [
    {
     "name": "stdout",
     "output_type": "stream",
     "text": [
      "train shape:  (13737, 53)\n",
      "test shape:  (5885, 53)\n",
      "  classe  roll_belt  pitch_belt  yaw_belt  total_accel_belt  gyros_belt_x  \\\n",
      "0      A       1.41        8.07     -94.4                 3          0.00   \n",
      "1      A       1.41        8.07     -94.4                 3          0.02   \n",
      "2      A       1.42        8.07     -94.4                 3          0.00   \n",
      "3      A       1.48        8.05     -94.4                 3          0.02   \n",
      "4      A       1.45        8.06     -94.4                 3          0.02   \n",
      "\n",
      "   gyros_belt_y  gyros_belt_z  accel_belt_x  accel_belt_y  ...  \\\n",
      "0           0.0         -0.02           -21             4  ...   \n",
      "1           0.0         -0.02           -22             4  ...   \n",
      "2           0.0         -0.02           -20             5  ...   \n",
      "3           0.0         -0.03           -22             3  ...   \n",
      "4           0.0         -0.02           -21             4  ...   \n",
      "\n",
      "   total_accel_forearm  gyros_forearm_x  gyros_forearm_y  gyros_forearm_z  \\\n",
      "0                   36             0.03             0.00            -0.02   \n",
      "1                   36             0.02             0.00            -0.02   \n",
      "2                   36             0.03            -0.02             0.00   \n",
      "3                   36             0.02            -0.02             0.00   \n",
      "4                   36             0.02            -0.02            -0.03   \n",
      "\n",
      "   accel_forearm_x  accel_forearm_y  accel_forearm_z  magnet_forearm_x  \\\n",
      "0              192              203             -215               -17   \n",
      "1              192              203             -216               -18   \n",
      "2              196              204             -213               -18   \n",
      "3              189              206             -214               -16   \n",
      "4              193              203             -215                -9   \n",
      "\n",
      "   magnet_forearm_y  magnet_forearm_z  \n",
      "0               654               476  \n",
      "1               661               473  \n",
      "2               658               469  \n",
      "3               658               469  \n",
      "4               660               478  \n",
      "\n",
      "[5 rows x 53 columns]\n"
     ]
    }
   ],
   "source": [
    "print(\"train shape: \", har_train.shape)\n",
    "print(\"test shape: \", har_test.shape)\n",
    "print(har_train.head())"
   ]
  },
  {
   "cell_type": "code",
   "execution_count": 42,
   "metadata": {},
   "outputs": [
    {
     "name": "stdout",
     "output_type": "stream",
     "text": [
      "Index(['classe', 'roll_belt', 'pitch_belt', 'yaw_belt', 'total_accel_belt',\n",
      "       'gyros_belt_x', 'gyros_belt_y', 'gyros_belt_z', 'accel_belt_x',\n",
      "       'accel_belt_y', 'accel_belt_z', 'magnet_belt_x', 'magnet_belt_y',\n",
      "       'magnet_belt_z', 'roll_arm', 'pitch_arm', 'yaw_arm', 'total_accel_arm',\n",
      "       'gyros_arm_x', 'gyros_arm_y', 'gyros_arm_z', 'accel_arm_x',\n",
      "       'accel_arm_y', 'accel_arm_z', 'magnet_arm_x', 'magnet_arm_y',\n",
      "       'magnet_arm_z', 'roll_dumbbell', 'pitch_dumbbell', 'yaw_dumbbell',\n",
      "       'total_accel_dumbbell', 'gyros_dumbbell_x', 'gyros_dumbbell_y',\n",
      "       'gyros_dumbbell_z', 'accel_dumbbell_x', 'accel_dumbbell_y',\n",
      "       'accel_dumbbell_z', 'magnet_dumbbell_x', 'magnet_dumbbell_y',\n",
      "       'magnet_dumbbell_z', 'roll_forearm', 'pitch_forearm', 'yaw_forearm',\n",
      "       'total_accel_forearm', 'gyros_forearm_x', 'gyros_forearm_y',\n",
      "       'gyros_forearm_z', 'accel_forearm_x', 'accel_forearm_y',\n",
      "       'accel_forearm_z', 'magnet_forearm_x', 'magnet_forearm_y',\n",
      "       'magnet_forearm_z'],\n",
      "      dtype='object')\n",
      "\n",
      " {'B', 'D', 'A', 'C', 'E'}\n"
     ]
    }
   ],
   "source": [
    "# checking all 53 column names in the dataset\n",
    "print(har_train.columns)\n",
    "\n",
    "# The variable to predict (or label) is \"classe\" column. \n",
    "# checking number of classes in classe column\n",
    "print(\"\\n\",set(har_train['classe']))"
   ]
  },
  {
   "cell_type": "code",
   "execution_count": 43,
   "metadata": {},
   "outputs": [
    {
     "name": "stdout",
     "output_type": "stream",
     "text": [
      "X_train shape:  (13737, 52)\n",
      "y_train shape:  (13737,)\n",
      "X_test shape:  (5885, 52)\n",
      "y_test shape:  (5885,)\n"
     ]
    }
   ],
   "source": [
    "# Separate features and class labels\n",
    "X_train = har_train.drop(['classe'], axis=1)\n",
    "y_train = har_train['classe']\n",
    "X_test = har_test.drop(['classe'], axis=1)\n",
    "y_test = har_test['classe']\n",
    "print(\"X_train shape: \", X_train.shape)\n",
    "print(\"y_train shape: \", y_train.shape)\n",
    "print(\"X_test shape: \", X_test.shape)\n",
    "print(\"y_test shape: \", y_test.shape)"
   ]
  },
  {
   "cell_type": "code",
   "execution_count": 44,
   "metadata": {},
   "outputs": [
    {
     "data": {
      "text/plain": [
       "GaussianNB(priors=None, var_smoothing=1e-09)"
      ]
     },
     "execution_count": 44,
     "metadata": {},
     "output_type": "execute_result"
    }
   ],
   "source": [
    "# Create and train the model\n",
    "gnb_clf = GaussianNB()\n",
    "gnb_clf.fit(X_train, y_train)"
   ]
  },
  {
   "cell_type": "code",
   "execution_count": 45,
   "metadata": {},
   "outputs": [
    {
     "name": "stdout",
     "output_type": "stream",
     "text": [
      "Accuracy on train set: 0.5581\n",
      "Accuracy on test set: 0.5543\n",
      "[[1070   95  262  212   35]\n",
      " [ 127  685  145   76  106]\n",
      " [ 223  106  512  136   49]\n",
      " [ 102   35  271  441  115]\n",
      " [  51  239   95  143  554]]\n"
     ]
    },
    {
     "data": {
      "image/png": "[encoded data removed]",
      "text/plain": [
       "<Figure size 432x288 with 2 Axes>"
      ]
     },
     "metadata": {
      "needs_background": "light"
     },
     "output_type": "display_data"
    }
   ],
   "source": [
    "# Reporting accuracy score and confusion matrix on test set\n",
    "y_pred_train = gnb_clf.predict(X_train)\n",
    "y_pred_test = gnb_clf.predict(X_test)\n",
    "print(\"Accuracy on train set: %.4f\" % accuracy_score(y_train, y_pred_train))\n",
    "print(\"Accuracy on test set: %.4f\" % accuracy_score(y_test, y_pred_test))\n",
    "labels = ['A', 'B', 'C', 'D', 'E']\n",
    "cm = confusion_matrix(y_test, y_pred_test, labels)\n",
    "print(cm)\n",
    "fig = plt.figure()\n",
    "ax = fig.add_subplot(111)\n",
    "cax = ax.matshow(cm)\n",
    "plt.title('Confusion matrix on test set')\n",
    "fig.colorbar(cax)\n",
    "ax.set_xticklabels([''] + labels)\n",
    "ax.set_yticklabels([''] + labels)\n",
    "plt.xlabel('Predicted')\n",
    "plt.ylabel('True')\n",
    "plt.show()"
   ]
  }
 ],
 "metadata": {
  "kernelspec": {
   "display_name": "Python 3",
   "language": "python",
   "name": "python3"
  },
  "language_info": {
   "codemirror_mode": {
    "name": "ipython",
    "version": 3
   },
   "file_extension": ".py",
   "mimetype": "text/x-python",
   "name": "python",
   "nbconvert_exporter": "python",
   "pygments_lexer": "ipython3",
   "version": "3.7.6"
  }
 },
 "nbformat": 4,
 "nbformat_minor": 2
}
